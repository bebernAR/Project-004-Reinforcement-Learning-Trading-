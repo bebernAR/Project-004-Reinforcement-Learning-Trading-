{
 "cells": [
  {
   "cell_type": "code",
   "execution_count": null,
   "metadata": {},
   "outputs": [
    {
     "name": "stdout",
     "output_type": "stream",
     "text": [
      "                                Open       High        Low      Close  \\\n",
      "Date                                                                    \n",
      "2014-10-29 00:00:00-04:00  23.647813  23.807461  23.583511  23.800808   \n",
      "2014-10-30 00:00:00-04:00  23.716542  23.803018  23.481506  23.720978   \n",
      "2014-10-31 00:00:00-04:00  23.949369  23.956021  23.771982  23.947151   \n",
      "2014-11-03 00:00:00-05:00  23.995937  24.457142  23.949373  24.257582   \n",
      "2014-11-04 00:00:00-05:00  24.248704  24.277529  23.885063  24.080187   \n",
      "\n",
      "                              Volume  \n",
      "Date                                  \n",
      "2014-10-29 00:00:00-04:00  210751600  \n",
      "2014-10-30 00:00:00-04:00  162619200  \n",
      "2014-10-31 00:00:00-04:00  178557200  \n",
      "2014-11-03 00:00:00-05:00  209130400  \n",
      "2014-11-04 00:00:00-05:00  166297600  \n"
     ]
    }
   ],
   "source": [
    "# import yfinance as yf\n",
    "# # Define the time range\n",
    "# aapl = yf.Ticker(\"AAPL\")\n",
    "# # Fetch historical data since 2006\n",
    "# aapl_data = aapl.history(start=\"2014-10-29\", end=None)\n",
    "# aapl_data = aapl_data[['Open', 'High', 'Low', 'Close', 'Volume']]\n",
    "# # Show the first few rows\n",
    "# print(aapl_data.head())\n",
    "# # Save it to a CSV file\n",
    "# aapl_data.to_csv(\"aapl_data.csv\")"
   ]
  },
  {
   "cell_type": "code",
   "execution_count": 4,
   "metadata": {},
   "outputs": [
    {
     "name": "stderr",
     "output_type": "stream",
     "text": [
      "C:\\Users\\Usuario\\AppData\\Local\\Temp\\ipykernel_5064\\2927819463.py:7: FutureWarning: In a future version of pandas, parsing datetimes with mixed time zones will raise an error unless `utc=True`. Please specify `utc=True` to opt in to the new behaviour and silence this warning. To create a `Series` with mixed offsets and `object` dtype, please use `apply` and `datetime.datetime.strptime`\n",
      "  data['Date'] = pd.to_datetime(data['Date'])\n"
     ]
    }
   ],
   "source": [
    "import pandas as pd\n",
    "import numpy as np\n",
    "data = pd.read_csv('aapl_data.csv')\n",
    "\n",
    "#Estandarizamos fecha y precio\n",
    "data['Close'] = data['Close'].astype(float)  \n",
    "data['Date'] = pd.to_datetime(data['Date'])  \n",
    "\n",
    "# Calculamos métricas\n",
    "\n",
    "# SMA_Ratio: Relación entre precio de cierre y promedio móvil simple (20 días)\n",
    "data['SMA_20'] = data['Close'].rolling(window=20).mean()\n",
    "data['SMA_Ratio'] = data['Close'] / data['SMA_20']\n",
    "\n",
    "# MACD_hist: Histograma de MACD\n",
    "ema_12 = data['Close'].ewm(span=12, adjust=False).mean()\n",
    "ema_26 = data['Close'].ewm(span=26, adjust=False).mean()\n",
    "data['MACD'] = ema_12 - ema_26\n",
    "data['Signal_Line'] = data['MACD'].ewm(span=9, adjust=False).mean()\n",
    "data['MACD_hist'] = data['MACD'] - data['Signal_Line']\n",
    "\n",
    "# RSI (Relative Strength Index, 14 días)\n",
    "delta = data['Close'].diff(1)\n",
    "gain = delta.where(delta > 0, 0)\n",
    "loss = -delta.where(delta < 0, 0)\n",
    "avg_gain = gain.rolling(window=14).mean()\n",
    "avg_loss = loss.rolling(window=14).mean()\n",
    "rs = avg_gain / avg_loss\n",
    "data['RSI'] = 100 - (100 / (1 + rs))\n",
    "\n",
    "# SO_diff: Diferencia del oscilador estocástico\n",
    "low_14 = data['Close'].rolling(window=14).min()\n",
    "high_14 = data['Close'].rolling(window=14).max()\n",
    "data['%K'] = (data['Close'] - low_14) / (high_14 - low_14) * 100\n",
    "data['%D'] = data['%K'].rolling(window=3).mean()\n",
    "data['SO_diff'] = data['%K'] - data['%D']\n",
    "\n",
    "# Returns: Retorno logarítmico diario\n",
    "data['Returns'] = np.log(data['Close'] / data['Close'].shift(1))\n",
    "\n",
    "# Exportar o continuar trabajando con el DataFrame resultante\n",
    "data.to_csv('aapl_data_with_metrics.csv', index=False)"
   ]
  }
 ],
 "metadata": {
  "kernelspec": {
   "display_name": "Python 3",
   "language": "python",
   "name": "python3"
  },
  "language_info": {
   "codemirror_mode": {
    "name": "ipython",
    "version": 3
   },
   "file_extension": ".py",
   "mimetype": "text/x-python",
   "name": "python",
   "nbconvert_exporter": "python",
   "pygments_lexer": "ipython3",
   "version": "3.10.0"
  }
 },
 "nbformat": 4,
 "nbformat_minor": 2
}
